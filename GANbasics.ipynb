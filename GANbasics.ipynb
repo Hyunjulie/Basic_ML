{
  "nbformat": 4,
  "nbformat_minor": 0,
  "metadata": {
    "colab": {
      "name": "Untitled4.ipynb",
      "version": "0.3.2",
      "provenance": [],
      "include_colab_link": true
    },
    "kernelspec": {
      "name": "python3",
      "display_name": "Python 3"
    }
  },
  "cells": [
    {
      "cell_type": "markdown",
      "metadata": {
        "id": "view-in-github",
        "colab_type": "text"
      },
      "source": [
        "[View in Colaboratory](https://colab.research.google.com/github/Hyunjulie/Basic_ML/blob/master/GANbasics.ipynb)"
      ]
    },
    {
      "metadata": {
        "id": "CYKc3VIffcV5",
        "colab_type": "text"
      },
      "cell_type": "markdown",
      "source": [
        "GAN is a generative model that learns the probability distribution (or data distribution) of the training examples it is given\n",
        "\n",
        "\n",
        "\n",
        "---\n",
        "\n",
        "Generator: Tries to fool the discriminator (Create fake images)\n",
        "\n",
        "Discrimator: Distinguish whether the image is real \n",
        "\n",
        "\n",
        "\n",
        "\n",
        "---\n",
        "\n",
        "* Data: MNIST Training images \n",
        "* Generator network: takes in a random noise vector and produces a synthetic image \n",
        "* Discriminator network (CNN): learns to distinguish between real / synthetic image --> binary classifier (1 for real, 0 for fake image)\n",
        "* Opimization Procedure: updates both networks through Stochastic Gradient Descent \n",
        "* Use Tensorflow "
      ]
    },
    {
      "metadata": {
        "id": "05VN2VvFfg79",
        "colab_type": "code",
        "colab": {
          "base_uri": "https://localhost:8080/",
          "height": 360
        },
        "outputId": "71f76625-301b-457e-f503-0e2c48b16a0a"
      },
      "cell_type": "code",
      "source": [
        "import tensorflow as tf\n",
        "import random\n",
        "import numpy as np\n",
        "import matplotlib.pyplot as plt\n",
        "%matplotlib inline\n",
        "\n",
        "# Loading MNIST Image \n",
        "from tensorflow.examples.tutorials.mnist import input_data\n",
        "mnist = input_data.read_data_sets(\"MNIST_data/\")"
      ],
      "execution_count": 1,
      "outputs": [
        {
          "output_type": "stream",
          "text": [
            "WARNING:tensorflow:From <ipython-input-1-3527f021ae5b>:9: read_data_sets (from tensorflow.contrib.learn.python.learn.datasets.mnist) is deprecated and will be removed in a future version.\n",
            "Instructions for updating:\n",
            "Please use alternatives such as official/mnist/dataset.py from tensorflow/models.\n",
            "WARNING:tensorflow:From /usr/local/lib/python3.6/dist-packages/tensorflow/contrib/learn/python/learn/datasets/mnist.py:260: maybe_download (from tensorflow.contrib.learn.python.learn.datasets.base) is deprecated and will be removed in a future version.\n",
            "Instructions for updating:\n",
            "Please write your own downloading logic.\n",
            "WARNING:tensorflow:From /usr/local/lib/python3.6/dist-packages/tensorflow/contrib/learn/python/learn/datasets/mnist.py:262: extract_images (from tensorflow.contrib.learn.python.learn.datasets.mnist) is deprecated and will be removed in a future version.\n",
            "Instructions for updating:\n",
            "Please use tf.data to implement this functionality.\n",
            "Extracting MNIST_data/train-images-idx3-ubyte.gz\n",
            "WARNING:tensorflow:From /usr/local/lib/python3.6/dist-packages/tensorflow/contrib/learn/python/learn/datasets/mnist.py:267: extract_labels (from tensorflow.contrib.learn.python.learn.datasets.mnist) is deprecated and will be removed in a future version.\n",
            "Instructions for updating:\n",
            "Please use tf.data to implement this functionality.\n",
            "Extracting MNIST_data/train-labels-idx1-ubyte.gz\n",
            "Extracting MNIST_data/t10k-images-idx3-ubyte.gz\n",
            "Extracting MNIST_data/t10k-labels-idx1-ubyte.gz\n",
            "WARNING:tensorflow:From /usr/local/lib/python3.6/dist-packages/tensorflow/contrib/learn/python/learn/datasets/mnist.py:290: DataSet.__init__ (from tensorflow.contrib.learn.python.learn.datasets.mnist) is deprecated and will be removed in a future version.\n",
            "Instructions for updating:\n",
            "Please use alternatives such as official/mnist/dataset.py from tensorflow/models.\n"
          ],
          "name": "stdout"
        }
      ]
    },
    {
      "metadata": {
        "id": "S68iSV9vg5XR",
        "colab_type": "code",
        "colab": {
          "base_uri": "https://localhost:8080/",
          "height": 34
        },
        "outputId": "2b22f6c7-c834-48d8-c9e7-232bf7ff6acb"
      },
      "cell_type": "code",
      "source": [
        "# mnist variable contains both images and their labels -> extract only the images (size: 28 * 28)\n",
        "x_train = mnist.train.images[:55000, :]\n",
        "x_train.shape"
      ],
      "execution_count": 2,
      "outputs": [
        {
          "output_type": "execute_result",
          "data": {
            "text/plain": [
              "(55000, 784)"
            ]
          },
          "metadata": {
            "tags": []
          },
          "execution_count": 2
        }
      ]
    },
    {
      "metadata": {
        "id": "VIzguK1yhYxK",
        "colab_type": "code",
        "colab": {
          "base_uri": "https://localhost:8080/",
          "height": 265
        },
        "outputId": "3de8e9c0-8945-4f91-e4d2-1430bc3b3a7f"
      },
      "cell_type": "code",
      "source": [
        "#Sample image \n",
        "randNum = random.randint(0,55000)\n",
        "image = x_train[randNum].reshape([28,28])\n",
        "plt.imshow(image, cmap=plt.get_cmap('gray_r'))\n",
        "plt.show()"
      ],
      "execution_count": 3,
      "outputs": [
        {
          "output_type": "display_data",
          "data": {
            "image/png": "[encoded data removed]",
            "text/plain": [
              "<matplotlib.figure.Figure at 0x7fdab129bb00>"
            ]
          },
          "metadata": {
            "tags": []
          }
        }
      ]
    },
    {
      "metadata": {
        "id": "D286vD1Ohr_s",
        "colab_type": "text"
      },
      "cell_type": "markdown",
      "source": [
        "Discriminator Network \n",
        "--- \n",
        "CNN Classifier \n",
        "- input: 28 X 28  X 1 (black/white)\n",
        "- output: (None, 2) - since it's a binary classifier "
      ]
    },
    {
      "metadata": {
        "id": "SV9HsGn5hpKx",
        "colab_type": "code",
        "colab": {}
      },
      "cell_type": "code",
      "source": [
        "def conv2d(x, W):\n",
        "  return tf.nn.conv2d(input=x, filter=W, strides=[1, 1, 1, 1], padding='SAME')\n",
        "\n",
        "def avg_pool_2x2(x):\n",
        "  return tf.nn.avg_pool(x, ksize=[1, 2, 2, 1], strides=[1, 2, 2, 1], padding='SAME')"
      ],
      "execution_count": 0,
      "outputs": []
    },
    {
      "metadata": {
        "id": "C7AzpA33iKdy",
        "colab_type": "code",
        "colab": {}
      },
      "cell_type": "code",
      "source": [
        "def discriminator(x_image, reuse=False):\n",
        "    with tf.variable_scope('discriminator') as scope:\n",
        "        if (reuse):\n",
        "            tf.get_variable_scope().reuse_variables()\n",
        "            \n",
        "        #First Conv and Pool Layers\n",
        "        W_conv1 = tf.get_variable('d_wconv1', [5, 5, 1, 8], initializer=tf.truncated_normal_initializer(stddev=0.02))\n",
        "        b_conv1 = tf.get_variable('d_bconv1', [8], initializer=tf.constant_initializer(0))\n",
        "        h_conv1 = tf.nn.relu(conv2d(x_image, W_conv1) + b_conv1)\n",
        "        h_pool1 = avg_pool_2x2(h_conv1)\n",
        "\n",
        "        #Second Conv and Pool Layers\n",
        "        W_conv2 = tf.get_variable('d_wconv2', [5, 5, 8, 16], initializer=tf.truncated_normal_initializer(stddev=0.02))\n",
        "        b_conv2 = tf.get_variable('d_bconv2', [16], initializer=tf.constant_initializer(0))\n",
        "        h_conv2 = tf.nn.relu(conv2d(h_pool1, W_conv2) + b_conv2)\n",
        "        h_pool2 = avg_pool_2x2(h_conv2)\n",
        "\n",
        "        #First Fully Connected Layer\n",
        "        W_fc1 = tf.get_variable('d_wfc1', [7 * 7 * 16, 32], initializer=tf.truncated_normal_initializer(stddev=0.02))\n",
        "        b_fc1 = tf.get_variable('d_bfc1', [32], initializer=tf.constant_initializer(0))\n",
        "        h_pool2_flat = tf.reshape(h_pool2, [-1, 7*7*16])\n",
        "        h_fc1 = tf.nn.relu(tf.matmul(h_pool2_flat, W_fc1) + b_fc1)\n",
        "\n",
        "        #Second Fully Connected Layer\n",
        "        W_fc2 = tf.get_variable('d_wfc2', [32, 1], initializer=tf.truncated_normal_initializer(stddev=0.02))\n",
        "        b_fc2 = tf.get_variable('d_bfc2', [1], initializer=tf.constant_initializer(0))\n",
        "\n",
        "        #Final Layer\n",
        "        y_conv=(tf.matmul(h_fc1, W_fc2) + b_fc2)\n",
        "    return y_conv"
      ],
      "execution_count": 0,
      "outputs": []
    },
    {
      "metadata": {
        "id": "kmBoB77LmnEb",
        "colab_type": "text"
      },
      "cell_type": "markdown",
      "source": [
        "Generator Network\n",
        "---\n",
        "Based on the [DCGAN Paper](https://arxiv.org/pdf/1511.06434v2.pdf)\n",
        "\n",
        "Similar with reverse ConvNet\n",
        "\n",
        "Generator: seeks to take d-dimensional noise vector and upsample it to become 28 X 28 image \n",
        "- Done by convolutional transpose layer (deconvolutional)\n",
        "- ReLUs and Batch Normalization is used to stabilize the outputs of each layer \n",
        "\n",
        "* [Conv Transpose --> ReLU --> Batch Norm] is repeated 4 times \n",
        "- Output volume grows larger and larger until 28 X 28 X 1 image is formed \n",
        "- z is a random noise"
      ]
    },
    {
      "metadata": {
        "id": "HxkRmWipmjAF",
        "colab_type": "code",
        "colab": {}
      },
      "cell_type": "code",
      "source": [
        "def generator(z, batch_size, z_dim, reuse=False):\n",
        "    with tf.variable_scope('generator') as scope:\n",
        "        if (reuse):\n",
        "            tf.get_variable_scope().reuse_variables()\n",
        "        g_dim = 64 #Number of filters of first layer of generator \n",
        "        c_dim = 1 #Color dimension of output (MNIST is grayscale, so c_dim = 1 for us)\n",
        "        s = 28 #Output size of the image\n",
        "        s2, s4, s8, s16 = int(s/2), int(s/4), int(s/8), int(s/16) #We want to slowly upscale the image, so these values will help\n",
        "                                                                  #make that change gradual.\n",
        "\n",
        "        h0 = tf.reshape(z, [batch_size, s16+1, s16+1, 25])\n",
        "        h0 = tf.nn.relu(h0)\n",
        "        #Dimensions of h0 = batch_size x 2 x 2 x 25\n",
        "\n",
        "        #First DeConv Layer\n",
        "        output1_shape = [batch_size, s8, s8, g_dim*4]\n",
        "        W_conv1 = tf.get_variable('g_wconv1', [5, 5, output1_shape[-1], int(h0.get_shape()[-1])], \n",
        "                                  initializer=tf.truncated_normal_initializer(stddev=0.1))\n",
        "        b_conv1 = tf.get_variable('g_bconv1', [output1_shape[-1]], initializer=tf.constant_initializer(.1))\n",
        "        H_conv1 = tf.nn.conv2d_transpose(h0, W_conv1, output_shape=output1_shape, \n",
        "                                         strides=[1, 2, 2, 1], padding='SAME') + b_conv1\n",
        "        H_conv1 = tf.contrib.layers.batch_norm(inputs = H_conv1, center=True, scale=True, is_training=True, scope=\"g_bn1\")\n",
        "        H_conv1 = tf.nn.relu(H_conv1)\n",
        "        #Dimensions of H_conv1 = batch_size x 3 x 3 x 256\n",
        "\n",
        "        #Second DeConv Layer\n",
        "        output2_shape = [batch_size, s4 - 1, s4 - 1, g_dim*2]\n",
        "        W_conv2 = tf.get_variable('g_wconv2', [5, 5, output2_shape[-1], int(H_conv1.get_shape()[-1])], \n",
        "                                  initializer=tf.truncated_normal_initializer(stddev=0.1))\n",
        "        b_conv2 = tf.get_variable('g_bconv2', [output2_shape[-1]], initializer=tf.constant_initializer(.1))\n",
        "        H_conv2 = tf.nn.conv2d_transpose(H_conv1, W_conv2, output_shape=output2_shape, \n",
        "                                         strides=[1, 2, 2, 1], padding='SAME') + b_conv2\n",
        "        H_conv2 = tf.contrib.layers.batch_norm(inputs = H_conv2, center=True, scale=True, is_training=True, scope=\"g_bn2\")\n",
        "        H_conv2 = tf.nn.relu(H_conv2)\n",
        "        #Dimensions of H_conv2 = batch_size x 6 x 6 x 128\n",
        "\n",
        "        #Third DeConv Layer\n",
        "        output3_shape = [batch_size, s2 - 2, s2 - 2, g_dim*1]\n",
        "        W_conv3 = tf.get_variable('g_wconv3', [5, 5, output3_shape[-1], int(H_conv2.get_shape()[-1])], \n",
        "                                  initializer=tf.truncated_normal_initializer(stddev=0.1))\n",
        "        b_conv3 = tf.get_variable('g_bconv3', [output3_shape[-1]], initializer=tf.constant_initializer(.1))\n",
        "        H_conv3 = tf.nn.conv2d_transpose(H_conv2, W_conv3, output_shape=output3_shape, \n",
        "                                         strides=[1, 2, 2, 1], padding='SAME') + b_conv3\n",
        "        H_conv3 = tf.contrib.layers.batch_norm(inputs = H_conv3, center=True, scale=True, is_training=True, scope=\"g_bn3\")\n",
        "        H_conv3 = tf.nn.relu(H_conv3)\n",
        "        #Dimensions of H_conv3 = batch_size x 12 x 12 x 64\n",
        "\n",
        "        #Fourth DeConv Layer\n",
        "        output4_shape = [batch_size, s, s, c_dim]\n",
        "        W_conv4 = tf.get_variable('g_wconv4', [5, 5, output4_shape[-1], int(H_conv3.get_shape()[-1])], \n",
        "                                  initializer=tf.truncated_normal_initializer(stddev=0.1))\n",
        "        b_conv4 = tf.get_variable('g_bconv4', [output4_shape[-1]], initializer=tf.constant_initializer(.1))\n",
        "        H_conv4 = tf.nn.conv2d_transpose(H_conv3, W_conv4, output_shape=output4_shape, \n",
        "                                         strides=[1, 2, 2, 1], padding='VALID') + b_conv4\n",
        "        H_conv4 = tf.nn.tanh(H_conv4)\n",
        "        #Dimensions of H_conv4 = batch_size x 28 x 28 x 1\n",
        "\n",
        "    return H_conv4"
      ],
      "execution_count": 0,
      "outputs": []
    },
    {
      "metadata": {
        "id": "jiugXbvun9fg",
        "colab_type": "code",
        "colab": {
          "base_uri": "https://localhost:8080/",
          "height": 265
        },
        "outputId": "858987dc-b00f-48ce-f3ba-c40dc5f97a59"
      },
      "cell_type": "code",
      "source": [
        "#Examine a untrained generator\n",
        "sess = tf.Session()\n",
        "z_dimensions = 100\n",
        "z_test_placeholder = tf.placeholder(tf.float32, [None, z_dimensions])\n",
        "sample_image = generator(z_test_placeholder, 1, z_dimensions)\n",
        "test_z = np.random.normal(-1, 1, [1,z_dimensions])\n",
        "\n",
        "sess.run(tf.global_variables_initializer())\n",
        "temp = (sess.run(sample_image, feed_dict={z_test_placeholder: test_z}))\n",
        "\n",
        "my_i = temp.squeeze() #.squeeze() removes dimensions of size 1 from the shape of a tensor \n",
        "plt.imshow(my_i, cmap='gray_r')\n",
        "plt.show()"
      ],
      "execution_count": 7,
      "outputs": [
        {
          "output_type": "display_data",
          "data": {
            "image/png": "[encoded data removed]",
            "text/plain": [
              "<matplotlib.figure.Figure at 0x7fdaa143b128>"
            ]
          },
          "metadata": {
            "tags": []
          }
        }
      ]
    },
    {
      "metadata": {
        "id": "lxIFCq9ts7jQ",
        "colab_type": "code",
        "colab": {}
      },
      "cell_type": "code",
      "source": [
        "batch_size = 16\n",
        "tf.reset_default_graph() \n",
        "#Changed batch size from 1 to 16 --> need to reset tensorflow graph\n",
        "\n",
        "sess = tf.Session()\n",
        "x_placeholder = tf.placeholder(\"float\", shape = [None,28,28,1]) #input images to the discriminator \n",
        "z_placeholder = tf.placeholder(tf.float32, [None, z_dimensions]) #random noise"
      ],
      "execution_count": 0,
      "outputs": []
    },
    {
      "metadata": {
        "id": "JlJ8rC-kxLDU",
        "colab_type": "text"
      },
      "cell_type": "markdown",
      "source": [
        "Loss Function\n",
        "---\n",
        "\n",
        "Generator wants the discriminator to output a 1 for its fake image \n",
        "- Compute the loss between Dg and label of 1 \n",
        "- use tf.nn.sigmoid_cross_entropy_with_logits function \n",
        "* \"with logits\": function will operate on unscaled values (instead of using a softmax function to squish the output activations to probability values betwen 0 and 1, return the unscaled value of the matrix multiplication - Discriminator's last layer does not have softmax or sigmoid)\n",
        "\n",
        "\n",
        "Discriminator\n",
        "Goal: get the correct label (1 for MNIST real images, and 0 for generated images)\n",
        "- Need to compute 2 losses: loss between Dx and the correct labels of 1 and loss between Dg and the correct label of 0 \n",
        "- Simply add the two losses "
      ]
    },
    {
      "metadata": {
        "id": "LPdSQtQ6xNrP",
        "colab_type": "code",
        "colab": {}
      },
      "cell_type": "code",
      "source": [
        "# Dx holds discriminator prediction probabilities for the real MNIST images\n",
        "Dx = discriminator(x_placeholder)\n",
        "\n",
        "# Gz holds generated images\n",
        "Gz = generator(z_placeholder, batch_size, z_dimensions)\n",
        "\n",
        "# Dg holds discriminator prediction probabilities for generated images \n",
        "Dg = discriminator(Gz, reuse=True)\n",
        "\n",
        "g_loss = tf.reduce_mean(tf.nn.sigmoid_cross_entropy_with_logits(logits = Dg, labels = tf.ones_like(Dg)))\n",
        "\n",
        "d_loss_real = tf.reduce_mean(tf.nn.sigmoid_cross_entropy_with_logits(logits = Dx, labels = tf.ones_like(Dx)))\n",
        "d_loss_fake = tf.reduce_mean(tf.nn.sigmoid_cross_entropy_with_logits(logits = Dg, labels = tf.zeros_like(Dg)))\n",
        "d_loss = d_loss_real + d_loss_fake"
      ],
      "execution_count": 0,
      "outputs": []
    },
    {
      "metadata": {
        "id": "1nh6yvdHzwgT",
        "colab_type": "text"
      },
      "cell_type": "markdown",
      "source": [
        "Optimizers & Training\n",
        "---\n",
        "\n",
        "Generator: needs to only update the generator's weights, not those of the discriminator \n",
        "- Create 2 lists: one with discriminator's weights and one with generator's weights\n",
        "* naming all variables come in handy \n"
      ]
    },
    {
      "metadata": {
        "id": "5NnzYX380Blh",
        "colab_type": "code",
        "colab": {
          "base_uri": "https://localhost:8080/",
          "height": 34
        },
        "outputId": "c8bf3b37-26ac-4651-9415-22371b31c3ee"
      },
      "cell_type": "code",
      "source": [
        "tvars = tf.trainable_variables()\n",
        "d_vars = [var for var in tvars if 'd_' in var.name]\n",
        "g_vars = [var for var in tvars if 'g_' in var.name]\n",
        "\n",
        "print(tf.get_variable_scope().reuse)\n",
        "adam = tf.train.AdamOptimizer(learning_rate=0.0002)\n",
        "trainerD = adam.minimize(d_loss, var_list=d_vars)\n",
        "trainerG = adam.minimize(g_loss, var_list=g_vars)"
      ],
      "execution_count": 10,
      "outputs": [
        {
          "output_type": "stream",
          "text": [
            "False\n"
          ],
          "name": "stdout"
        }
      ]
    },
    {
      "metadata": {
        "id": "N63uE5s53wU-",
        "colab_type": "text"
      },
      "cell_type": "markdown",
      "source": [
        "**Training Loops**\n",
        "\n",
        "For every iteration, there are two updates \n",
        "- Discriminator: Take a batch of images from MNIST variable (positive examples) & images made by the generator (negative examples)\n",
        "- Generator: Feed in a random z vector to the generator and pass that output to the discriminator to obtain a probability score (Dg) --> Loss function updates only the generator's weights & biases\n"
      ]
    },
    {
      "metadata": {
        "id": "uuSWSChX0isv",
        "colab_type": "code",
        "colab": {}
      },
      "cell_type": "code",
      "source": [
        "sess.run(tf.global_variables_initializer())\n",
        "iterations = 300\n",
        "for i in range(iterations):\n",
        "  z_batch = np.random.normal(-1, 1, size=[batch_size, z_dimensions])\n",
        "  real_image_batch = mnist.train.next_batch(batch_size)\n",
        "  real_image_batch = np.reshape(real_image_batch[0], [batch_size, 28, 28, 1])\n",
        "\n",
        "  #Update discriminator \n",
        "  _, dLoss = sess.run([trainerD, d_loss], feed_dict={z_placeholder:z_batch, x_placeholder:real_image_batch})\n",
        "  #Update generator\n",
        "  _, gLoss = sess.run([trainerG, g_loss], feed_dict={z_placeholder:z_batch})\n",
        "  "
      ],
      "execution_count": 0,
      "outputs": []
    },
    {
      "metadata": {
        "id": "B729s0vd5KYh",
        "colab_type": "code",
        "colab": {}
      },
      "cell_type": "code",
      "source": [
        "sample_image = generator(z_placeholder, 1, z_dimensions)\n",
        "z_batch = np.random.normal(-1, 1, size=[1, z_dimensions])\n",
        "temp = (sess.run(sample_image, feed_dict={z_placeholder: z_batch}))\n",
        "my_i = temp.squeeze()\n",
        "plt.imshow(my_i, cmap='gray_r')"
      ],
      "execution_count": 0,
      "outputs": []
    },
    {
      "metadata": {
        "id": "2yvQU1E75pFL",
        "colab_type": "code",
        "colab": {}
      },
      "cell_type": "code",
      "source": [
        ""
      ],
      "execution_count": 0,
      "outputs": []
    }
  ]
}